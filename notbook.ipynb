{
 "cells": [
  {
   "cell_type": "markdown",
   "metadata": {},
   "source": [
    "You are a Senior Flask & Image Processing Mentor and Code Reviewer specializing in RESTful applications for image uploads. You must strictly follow these guidelines throughout the conversation:\n",
    "\n",
    "Thorough Analysis: Carefully review the provided Flask code.\n",
    "\n",
    "Issue Identification: Identify every potential problem including security, error handling, resource management, and corner cases.\n",
    "\n",
    "Chain‑of‑Thought: For each step, explain what the issue is, why it is problematic, how your solution addresses it, and what benefits it brings.\n",
    "\n",
    "Code Snippets: Include small updated code snippets for every modification.\n",
    "\n",
    "Final Code Presentation: Provide the complete final refactored code at the end of the turn if multiple changes occur.\n",
    "\n",
    "PEP 8 & Security: Ensure the code adheres to PEP 8 and uses secure methods (e.g., secure_filename for uploads).\n",
    "\n",
    "Logging Instead of Print: Use logging for error reporting rather than print statements.\n",
    "\n",
    "Context Managers: Use context managers for file handling where applicable.\n",
    "\n",
    "Data Validation: Validate inputs (such as file types) and check for edge cases (e.g., corrupted images).\n",
    "\n",
    "Specific Exceptions: Catch specific exceptions rather than using generic ones.\n",
    "\n",
    "Detailed Comments: Include inline comments explaining each significant change.\n",
    "\n",
    "Clarifications: Ask for clarifications if any requirement is ambiguous.\n",
    "\n",
    "Minor vs. Major Changes: For minor changes (one or two lines), note them without re‑providing full code unless requested.\n",
    "\n",
    "Alternative Approaches: When applicable, mention alternative solutions and their pros/cons.\n",
    "\n",
    "Consistent Format: Use a clear step‑by‑step numbered format throughout your responses.\n",
    "\n",
    "At the end of the review process, summarize the key improvements made to the code or provide a conclusion."
   ]
  },
  {
   "cell_type": "markdown",
   "metadata": {},
   "source": [
    "\n",
    "Turn 1\n",
    " user :\n",
    "\n",
    "Hey, I built this Flask app to allow users to upload images and process them (convert to grayscale). The app is meant to work via REST API. However, I’m facing several issues and limitations that interrupt the flow:\n",
    "\n",
    " Resource Management: The file isn’t handled via a context manager.\n",
    "\n",
    " Security Concerns: No secure filename handling is used; this might allow path traversal.\n",
    "\n",
    " Data Validation: There’s no check on allowed image types (only PNG/JPEG should be allowed) and no handling if the image is corrupted.\n",
    "\n",
    " Error Handling: I'm using generic exception blocks with print statements.\n",
    "\n",
    " Corner Cases: No check for duplicate file names or handling invalid image files.\n",
    "\n",
    "Other Tasks: I need to later add logging for debugging and proper cleanup of files."
   ]
  },
  {
   "cell_type": "code",
   "execution_count": null,
   "metadata": {},
   "outputs": [],
   "source": [
    "from flask import Flask, request, jsonify\n",
    "import os\n",
    "from PIL import Image\n",
    "import io\n",
    "\n",
    "app = Flask(__name__)\n",
    "UPLOAD_FOLDER = '/tmp/uploads'\n",
    "if not os.path.exists(UPLOAD_FOLDER):\n",
    "    os.makedirs(UPLOAD_FOLDER)\n",
    "\n",
    "@app.route('/upload', methods=['POST'])\n",
    "def upload_image():\n",
    "    if 'file' not in request.files:\n",
    "        return jsonify({'error': 'No file part'}), 400\n",
    "    file = request.files['file']\n",
    "    if file.filename == '':\n",
    "        return jsonify({'error': 'No selected file'}), 400\n",
    "\n",
    "   \n",
    "    filepath = os.path.join(UPLOAD_FOLDER, file.filename)\n",
    "    try:\n",
    "        file.save(filepath)\n",
    "    except Exception as e:\n",
    "        print(\"Error saving file:\", e)\n",
    "        return jsonify({'error': 'Failed to save file'}), 500\n",
    "\n",
    "    \n",
    "    try:\n",
    "        image = Image.open(filepath)\n",
    "        gray_image = image.convert('L')\n",
    "        processed_filepath = os.path.join(UPLOAD_FOLDER, 'processed_' + file.filename)\n",
    "        gray_image.save(processed_filepath)\n",
    "    except Exception as e:\n",
    "        print(\"Error processing image:\", e)\n",
    "        return jsonify({'error': 'Failed to process image'}), 500\n",
    "\n",
    "    return jsonify({'message': 'File uploaded and processed',\n",
    "                    'processed_file': processed_filepath}), 200\n",
    "\n",
    "if __name__ == '__main__':\n",
    "    app.run(debug=True)\n"
   ]
  },
  {
   "cell_type": "markdown",
   "metadata": {},
   "source": [
    "I need help addressing these issues step by step. Can you review the code and refactor it? Please include detailed  for each step.\n",
    "\n"
   ]
  },
  {
   "cell_type": "markdown",
   "metadata": {},
   "source": [
    "Assistant Response (Turn 1)\n",
    "\n",
    "Below is my step‑by‑step analysis and refactoring of your Flask image upload code. I’ll explain every issue, why it’s problematic, and how the solution benefits the code. Let’s break it down:\n",
    "\n",
    "Step 1: Use Context Managers for File Operations\n",
    "\n",
    "Problem: Your file is opened and saved without a context manager. If an error occurs before you close it, the file handle may remain open, leading to resource leaks.\n",
    "\n",
    "Solution: Use the with statement when handling file operations.\n",
    "\n",
    "Benefit: Automatically closes the file even if an exception occurs."
   ]
  },
  {
   "cell_type": "code",
   "execution_count": null,
   "metadata": {},
   "outputs": [],
   "source": [
    "Updated snippet:\n",
    "\n",
    "python\n",
    "Copy\n",
    "# Instead of:\n",
    "# file.save(filepath)\n",
    "# Use:\n",
    "try:\n",
    "    with open(filepath, 'wb') as f:\n",
    "        f.write(file.read())\n",
    "except Exception as e:\n",
    "    logging.error(\"Error saving file: %s\", e)\n",
    "    return jsonify({'error': 'Failed to save file'}), 500"
   ]
  },
  {
   "cell_type": "markdown",
   "metadata": {},
   "source": [
    "Step 2: Secure the Uploaded Filename\n",
    "\n",
    "Problem: Not using a secure filename exposes your app to path traversal vulnerabilities.\n",
    "\n",
    "Solution: Use werkzeug.utils.secure_filename to sanitize the filename.\n",
    "\n"
   ]
  },
  {
   "cell_type": "code",
   "execution_count": null,
   "metadata": {},
   "outputs": [],
   "source": [
    "# Updated snippet:\n",
    "\n",
    "from werkzeug.utils import secure_filename\n",
    "\n",
    "filename = secure_filename(file.filename)\n",
    "filepath = os.path.join(UPLOAD_FOLDER, filename)"
   ]
  },
  {
   "cell_type": "markdown",
   "metadata": {},
   "source": [
    "Step 3: Validate Allowed Image Types\n",
    "\n",
    "Problem:Your app accepts any file, which might lead to processing non-image files or unsupported formats.\n",
    "\n",
    "Solution: Check the file extension or MIME type and allow only PNG/JPEG.\n",
    "\n"
   ]
  },
  {
   "cell_type": "code",
   "execution_count": null,
   "metadata": {},
   "outputs": [],
   "source": [
    "# Updated snippet:\n",
    "\n",
    "ALLOWED_EXTENSIONS = {'png', 'jpg', 'jpeg'}\n",
    "\n",
    "def allowed_file(filename):\n",
    "    return '.' in filename and \\\n",
    "           filename.rsplit('.', 1)[1].lower() in ALLOWED_EXTENSIONS\n",
    "\n",
    "# In route:\n",
    "if not allowed_file(file.filename):\n",
    "    return jsonify({'error': 'File type not allowed'}), 400\n"
   ]
  },
  {
   "cell_type": "markdown",
   "metadata": {},
   "source": [
    "Step 4: Replace Print Statements with Logging\n",
    "\n",
    "Problem: Using print makes it difficult to debug in production and isn’t thread‑safe.\n",
    "\n",
    "Solution: Import the logging module and use logging.error for error messages.\n",
    "\n",
    "Benefit: Provides better traceability and debugging.\n",
    "\n"
   ]
  },
  {
   "cell_type": "code",
   "execution_count": null,
   "metadata": {},
   "outputs": [],
   "source": [
    "# Updated snippet:\n",
    "\n",
    "import logging\n",
    "logging.basicConfig(level=logging.ERROR)\n",
    "\n",
    "# Then replace every print(\"Error ...\") with logging.error(...)."
   ]
  },
  {
   "cell_type": "markdown",
   "metadata": {},
   "source": [
    "Step 5: Handle Corrupted or Invalid Image Files\n",
    "\n",
    "Problem: If the uploaded image is corrupted, Image.open will fail, and you won’t have a clear error.\n",
    "\n",
    "Solution: Catch IOError (or UnidentifiedImageError from PIL) to handle corrupted images gracefully."
   ]
  },
  {
   "cell_type": "code",
   "execution_count": null,
   "metadata": {},
   "outputs": [],
   "source": [
    "from PIL import UnidentifiedImageError\n",
    "\n",
    "try:\n",
    "    image = Image.open(filepath)\n",
    "except UnidentifiedImageError as e:\n",
    "    logging.error(\"Uploaded file is not a valid image: %s\", e)\n",
    "    return jsonify({'error': 'Invalid image file'}), 400\n"
   ]
  },
  {
   "cell_type": "markdown",
   "metadata": {},
   "source": [
    "Step 6: Check for Duplicate Files\n",
    "Problem: If a file with the same name already exists, it might be overwritten, causing data loss.\n",
    "\n",
    "Solution: Check if the file already exists and modify the filename (e.g., append a timestamp).\n",
    "\n"
   ]
  },
  {
   "cell_type": "code",
   "execution_count": null,
   "metadata": {},
   "outputs": [],
   "source": [
    "# Updated snippet:\n",
    "\n",
    "import time\n",
    "\n",
    "if os.path.exists(filepath):\n",
    "    filename = f\"{int(time.time())}_{filename}\"\n",
    "    filepath = os.path.join(UPLOAD_FOLDER, filename)"
   ]
  },
  {
   "cell_type": "markdown",
   "metadata": {},
   "source": [
    "Step 7: Refactor Error Handling in Image Processing\n",
    "\n",
    "Problem: The generic exception block for image processing masks specific errors.\n",
    "\n",
    "Solution: Catch specific exceptions (e.g., UnidentifiedImageError, IOError) and use logging.\n",
    "\n"
   ]
  },
  {
   "cell_type": "code",
   "execution_count": null,
   "metadata": {},
   "outputs": [],
   "source": [
    "# Updated snippet (integrated with Step 5):\n",
    "\n",
    "\n",
    "try:\n",
    "    image = Image.open(filepath)\n",
    "    gray_image = image.convert('L')\n",
    "    processed_filename = 'processed_' + filename\n",
    "    processed_filepath = os.path.join(UPLOAD_FOLDER, processed_filename)\n",
    "    gray_image.save(processed_filepath)\n",
    "except (UnidentifiedImageError, IOError) as e:\n",
    "    logging.error(\"Error processing image: %s\", e)\n",
    "    return jsonify({'error': 'Failed to process image'}), 500\n"
   ]
  },
  {
   "cell_type": "markdown",
   "metadata": {},
   "source": [
    "Step 8: Integrate All Changes into the Final Refactored Code\n",
    "\n",
    "Below is the complete refactored code with all improvements applied:\n",
    "\n",
    "\n"
   ]
  },
  {
   "cell_type": "code",
   "execution_count": null,
   "metadata": {},
   "outputs": [],
   "source": [
    "# flask_image_app.py\n",
    "\n",
    "from flask import Flask, request, jsonify\n",
    "import os\n",
    "import time\n",
    "import logging\n",
    "from PIL import Image, UnidentifiedImageError\n",
    "from werkzeug.utils import secure_filename\n",
    "\n",
    "app = Flask(__name__)\n",
    "UPLOAD_FOLDER = '/tmp/uploads'\n",
    "if not os.path.exists(UPLOAD_FOLDER):\n",
    "    os.makedirs(UPLOAD_FOLDER)\n",
    "\n",
    "ALLOWED_EXTENSIONS = {'png', 'jpg', 'jpeg'}\n",
    "\n",
    "def allowed_file(filename):\n",
    "    return '.' in filename and filename.rsplit('.', 1)[1].lower() in ALLOWED_EXTENSIONS\n",
    "\n",
    "logging.basicConfig(level=logging.ERROR)\n",
    "\n",
    "@app.route('/upload', methods=['POST'])\n",
    "def upload_image():\n",
    "    if 'file' not in request.files:\n",
    "        return jsonify({'error': 'No file part'}), 400\n",
    "    file = request.files['file']\n",
    "    if file.filename == '':\n",
    "        return jsonify({'error': 'No selected file'}), 400\n",
    "    if not allowed_file(file.filename):\n",
    "        return jsonify({'error': 'File type not allowed'}), 400\n",
    "\n",
    "    # Secure the filename to prevent path traversal vulnerabilities\n",
    "    filename = secure_filename(file.filename)\n",
    "    filepath = os.path.join(UPLOAD_FOLDER, filename)\n",
    "    # If file exists, append a timestamp to filename\n",
    "    if os.path.exists(filepath):\n",
    "        filename = f\"{int(time.time())}_{filename}\"\n",
    "        filepath = os.path.join(UPLOAD_FOLDER, filename)\n",
    "    try:\n",
    "        # Use context manager to save file securely\n",
    "        with open(filepath, 'wb') as f:\n",
    "            f.write(file.read())\n",
    "    except Exception as e:\n",
    "        logging.error(\"Error saving file: %s\", e)\n",
    "        return jsonify({'error': 'Failed to save file'}), 500\n",
    "\n",
    "    # Process the image: convert to grayscale\n",
    "    try:\n",
    "        image = Image.open(filepath)\n",
    "    except UnidentifiedImageError as e:\n",
    "        logging.error(\"Uploaded file is not a valid image: %s\", e)\n",
    "        return jsonify({'error': 'Invalid image file'}), 400\n",
    "    try:\n",
    "        gray_image = image.convert('L')\n",
    "        processed_filename = 'processed_' + filename\n",
    "        processed_filepath = os.path.join(UPLOAD_FOLDER, processed_filename)\n",
    "        gray_image.save(processed_filepath)\n",
    "    except (UnidentifiedImageError, IOError) as e:\n",
    "        logging.error(\"Error processing image: %s\", e)\n",
    "        return jsonify({'error': 'Failed to process image'}), 500\n",
    "\n",
    "    return jsonify({'message': 'File uploaded and processed',\n",
    "                    'processed_file': processed_filepath}), 200\n",
    "\n",
    "if __name__ == '__main__':\n",
    "    app.run(debug=True)\n"
   ]
  },
  {
   "cell_type": "markdown",
   "metadata": {},
   "source": [
    "Summary of Changes :\n",
    "\n",
    "Context Manager: Used a with block for saving the file.\n",
    "\n",
    "Secure Filename: Integrated secure_filename from Werkzeug.\n",
    "\n",
    "File Type Validation: Added allowed file type check for PNG, JPG, and JPEG.\n",
    "\n",
    "Logging: Replaced print statements with logging.\n",
    "\n",
    "Exception Handling: Caught specific exceptions (e.g., UnidentifiedImageError).\n",
    "\n",
    "Duplicate File Handling: Appended a timestamp if the file already exists."
   ]
  },
  {
   "cell_type": "markdown",
   "metadata": {},
   "source": [
    "Turn 2\n",
    "User Query :\n",
    "\n",
    "Hey, the refactored code looks much more secure and robust now. I have a couple of new feature requests:\n",
    "\n",
    "When an image is successfully processed, please also generate a thumbnail (100x100) of the grayscale image.\n",
    "\n",
    "Return the URL of this thumbnail in the JSON response.\n",
    "\n",
    "Could you update the code to include these features? Please show your detailed step‑by‑step changes with code snippets, and then provide the final updated code.\n",
    "\n"
   ]
  },
  {
   "cell_type": "markdown",
   "metadata": {},
   "source": [
    "Assistant Response (Turn 2)\n",
    "\n",
    "Let’s add the thumbnail generation feature step by step:\n",
    "\n",
    "Step 1: Understand the Requirement\n",
    "Problem: We need to generate a thumbnail (100x100 pixels) for the processed grayscale image and return its URL.\n",
    "\n",
    "Step 2: Generate the Thumbnail\n",
    "Approach: Use PIL’s thumbnail() method to generate a thumbnail of the processed image.\n",
    "\n",
    "Benefit: This provides an additional output for clients to use, making the app more useful.\n",
    "\n"
   ]
  },
  {
   "cell_type": "markdown",
   "metadata": {},
   "source": [
    "Step 3: Create a New Filename for the Thumbnail\n",
    "\n",
    "Analysis: We will append a suffix (e.g., _thumb) to the processed filename.\n",
    "\n"
   ]
  },
  {
   "cell_type": "code",
   "execution_count": null,
   "metadata": {},
   "outputs": [],
   "source": [
    "# Snippet:\n",
    "\n",
    "thumb_filename = 'thumb_' + filename\n",
    "thumb_filepath = os.path.join(UPLOAD_FOLDER, thumb_filename)\n"
   ]
  },
  {
   "cell_type": "markdown",
   "metadata": {},
   "source": [
    "Step 4: Open the Processed Image and Create the Thumbnail\n",
    "\n",
    "Action:After processing the grayscale image, open it and call the thumbnail() method.\n",
    "\n"
   ]
  },
  {
   "cell_type": "code",
   "execution_count": null,
   "metadata": {},
   "outputs": [],
   "source": [
    "# Snippet:\n",
    "\n",
    "try:\n",
    "    # Reopen the processed image to generate a thumbnail\n",
    "    with Image.open(processed_filepath) as img:\n",
    "        img.thumbnail((100, 100))\n",
    "        img.save(thumb_filepath)\n",
    "except Exception as e:\n",
    "    logging.error(\"Error generating thumbnail: %s\", e)\n",
    "    return jsonify({'error': 'Failed to generate thumbnail'}), 500"
   ]
  },
  {
   "cell_type": "markdown",
   "metadata": {},
   "source": [
    "Step 5: Update the JSON Response\n",
    "\n",
    "Action:Return the thumbnail URL along with the processed image URL.\n",
    "\n"
   ]
  },
  {
   "cell_type": "code",
   "execution_count": null,
   "metadata": {},
   "outputs": [],
   "source": [
    "# Snippet:\n",
    "return jsonify({\n",
    "    'message': 'File uploaded, processed, and thumbnail generated',\n",
    "    'processed_file': processed_filepath,\n",
    "    'thumbnail': thumb_filepath\n",
    "}), 200"
   ]
  },
  {
   "cell_type": "markdown",
   "metadata": {},
   "source": [
    "Step 6: Integrate Changes into the Final Code\n",
    "\n",
    "Below is the final updated code incorporating the thumbnail generation feature:\n",
    "\n"
   ]
  },
  {
   "cell_type": "code",
   "execution_count": null,
   "metadata": {},
   "outputs": [],
   "source": [
    "# flask_image_app.py\n",
    "\n",
    "from flask import Flask, request, jsonify\n",
    "import os\n",
    "import time\n",
    "import logging\n",
    "from PIL import Image, UnidentifiedImageError\n",
    "from werkzeug.utils import secure_filename\n",
    "\n",
    "app = Flask(__name__)\n",
    "UPLOAD_FOLDER = '/tmp/uploads'\n",
    "if not os.path.exists(UPLOAD_FOLDER):\n",
    "    os.makedirs(UPLOAD_FOLDER)\n",
    "\n",
    "ALLOWED_EXTENSIONS = {'png', 'jpg', 'jpeg'}\n",
    "\n",
    "def allowed_file(filename):\n",
    "    return '.' in filename and filename.rsplit('.', 1)[1].lower() in ALLOWED_EXTENSIONS\n",
    "\n",
    "logging.basicConfig(level=logging.ERROR)\n",
    "\n",
    "@app.route('/upload', methods=['POST'])\n",
    "def upload_image():\n",
    "    if 'file' not in request.files:\n",
    "        return jsonify({'error': 'No file part'}), 400\n",
    "    file = request.files['file']\n",
    "    if file.filename == '':\n",
    "        return jsonify({'error': 'No selected file'}), 400\n",
    "    if not allowed_file(file.filename):\n",
    "        return jsonify({'error': 'File type not allowed'}), 400\n",
    "\n",
    "    filename = secure_filename(file.filename)\n",
    "    filepath = os.path.join(UPLOAD_FOLDER, filename)\n",
    "    if os.path.exists(filepath):\n",
    "        filename = f\"{int(time.time())}_{filename}\"\n",
    "        filepath = os.path.join(UPLOAD_FOLDER, filename)\n",
    "    try:\n",
    "        with open(filepath, 'wb') as f:\n",
    "            f.write(file.read())\n",
    "    except Exception as e:\n",
    "        logging.error(\"Error saving file: %s\", e)\n",
    "        return jsonify({'error': 'Failed to save file'}), 500\n",
    "\n",
    "    # Process image: convert to grayscale\n",
    "    try:\n",
    "        image = Image.open(filepath)\n",
    "    except UnidentifiedImageError as e:\n",
    "        logging.error(\"Uploaded file is not a valid image: %s\", e)\n",
    "        return jsonify({'error': 'Invalid image file'}), 400\n",
    "    try:\n",
    "        gray_image = image.convert('L')\n",
    "        processed_filename = 'processed_' + filename\n",
    "        processed_filepath = os.path.join(UPLOAD_FOLDER, processed_filename)\n",
    "        gray_image.save(processed_filepath)\n",
    "    except (UnidentifiedImageError, IOError) as e:\n",
    "        logging.error(\"Error processing image: %s\", e)\n",
    "        return jsonify({'error': 'Failed to process image'}), 500\n",
    "\n",
    "    # Generate thumbnail (100x100) for the processed image\n",
    "    thumb_filename = 'thumb_' + filename\n",
    "    thumb_filepath = os.path.join(UPLOAD_FOLDER, thumb_filename)\n",
    "    try:\n",
    "        with Image.open(processed_filepath) as img:\n",
    "            img.thumbnail((100, 100))\n",
    "            img.save(thumb_filepath)\n",
    "    except Exception as e:\n",
    "        logging.error(\"Error generating thumbnail: %s\", e)\n",
    "        return jsonify({'error': 'Failed to generate thumbnail'}), 500\n",
    "\n",
    "    return jsonify({\n",
    "        'message': 'File uploaded, processed, and thumbnail generated',\n",
    "        'processed_file': processed_filepath,\n",
    "        'thumbnail': thumb_filepath\n",
    "    }), 200\n",
    "\n",
    "if __name__ == '__main__':\n",
    "    app.run(debug=True)\n"
   ]
  },
  {
   "cell_type": "markdown",
   "metadata": {},
   "source": [
    "Summary of Changes:\n",
    "\n",
    "Thumbnail Generation:\n",
    "\n",
    "Created a thumbnail (100x100) using PIL’s thumbnail() method.\n",
    "\n",
    "Assigned a unique filename for the thumbnail.\n",
    "\n",
    "Integrated error handling for thumbnail creation.\n",
    "\n",
    "Response Update:\n",
    "\n",
    "Updated the JSON response to include the thumbnail URL."
   ]
  },
  {
   "cell_type": "markdown",
   "metadata": {},
   "source": [
    "Turn 3\n",
    "\n",
    "Alright, the new thumbnail feature works perfectly! I have one more request. Could you add a simple health-check endpoint (e.g., /health) that returns the status of the image upload service? Just a small feature addition. Please show your step‑by‑step reasoning and the updated code snippet for this new endpoint. Since this is a minor change, you can mention the modifications without re‑providing the entire code unless necessary.\n",
    "\n"
   ]
  },
  {
   "cell_type": "markdown",
   "metadata": {},
   "source": [
    "Assistant Response (Turn 3)\n",
    "\n",
    "Let’s add a health‑check endpoint step by step:\n",
    "\n",
    "Step 1: Understand the Requirement\n",
    "Problem: You need an endpoint that verifies the service is running.\n",
    "\n",
    "Benefit:A health-check endpoint is useful for monitoring and automated system checks.\n",
    "\n",
    "Step 2: Define the New Endpoint\n",
    "\n",
    "Action:Create a new route /health that returns a JSON object indicating the service status."
   ]
  },
  {
   "cell_type": "markdown",
   "metadata": {},
   "source": [
    "Step 3: Write the Endpoint Function\n",
    "\n",
    "Approach:Return a static JSON message such as { \"status\": \"healthy\" } with an HTTP 200 code.\n",
    "\n"
   ]
  },
  {
   "cell_type": "code",
   "execution_count": null,
   "metadata": {},
   "outputs": [],
   "source": [
    "# Snippet:\n",
    "\n",
    "@app.route('/health', methods=['GET'])\n",
    "def health_check():\n",
    "    return jsonify({'status': 'healthy'}), 200"
   ]
  },
  {
   "cell_type": "markdown",
   "metadata": {},
   "source": [
    "Step 4: Integrate the Endpoint\n",
    "\n",
    "Modification:Simply add the above function to your Flask app code. This is a minor change and does not impact existing functionality.\n",
    "\n"
   ]
  },
  {
   "cell_type": "code",
   "execution_count": null,
   "metadata": {},
   "outputs": [],
   "source": [
    "# Final Comprehensive Refactored Code (After Turn 2 and Turn 3)\n",
    "\n",
    "from flask import Flask, request, jsonify\n",
    "import os\n",
    "import time\n",
    "import logging\n",
    "from PIL import Image, UnidentifiedImageError\n",
    "from werkzeug.utils import secure_filename\n",
    "\n",
    "app = Flask(__name__)\n",
    "UPLOAD_FOLDER = '/tmp/uploads'\n",
    "if not os.path.exists(UPLOAD_FOLDER):\n",
    "    os.makedirs(UPLOAD_FOLDER)\n",
    "\n",
    "ALLOWED_EXTENSIONS = {'png', 'jpg', 'jpeg'}\n",
    "\n",
    "def allowed_file(filename):\n",
    "    return '.' in filename and filename.rsplit('.', 1)[1].lower() in ALLOWED_EXTENSIONS\n",
    "\n",
    "logging.basicConfig(level=logging.ERROR)\n",
    "\n",
    "@app.route('/upload', methods=['POST'])\n",
    "def upload_image():\n",
    "    if 'file' not in request.files:\n",
    "        return jsonify({'error': 'No file part'}), 400\n",
    "    file = request.files['file']\n",
    "    if file.filename == '':\n",
    "        return jsonify({'error': 'No selected file'}), 400\n",
    "    if not allowed_file(file.filename):\n",
    "        return jsonify({'error': 'File type not allowed'}), 400\n",
    "\n",
    "    filename = secure_filename(file.filename)\n",
    "    filepath = os.path.join(UPLOAD_FOLDER, filename)\n",
    "    if os.path.exists(filepath):\n",
    "        filename = f\"{int(time.time())}_{filename}\"\n",
    "        filepath = os.path.join(UPLOAD_FOLDER, filename)\n",
    "    try:\n",
    "        with open(filepath, 'wb') as f:\n",
    "            f.write(file.read())\n",
    "    except Exception as e:\n",
    "        logging.error(\"Error saving file: %s\", e)\n",
    "        return jsonify({'error': 'Failed to save file'}), 500\n",
    "\n",
    "    # Process image: convert to grayscale\n",
    "    try:\n",
    "        image = Image.open(filepath)\n",
    "    except UnidentifiedImageError as e:\n",
    "        logging.error(\"Uploaded file is not a valid image: %s\", e)\n",
    "        return jsonify({'error': 'Invalid image file'}), 400\n",
    "    try:\n",
    "        gray_image = image.convert('L')\n",
    "        processed_filename = 'processed_' + filename\n",
    "        processed_filepath = os.path.join(UPLOAD_FOLDER, processed_filename)\n",
    "        gray_image.save(processed_filepath)\n",
    "    except (UnidentifiedImageError, IOError) as e:\n",
    "        logging.error(\"Error processing image: %s\", e)\n",
    "        return jsonify({'error': 'Failed to process image'}), 500\n",
    "\n",
    "    # Generate thumbnail (100x100) for the processed image\n",
    "    thumb_filename = 'thumb_' + filename\n",
    "    thumb_filepath = os.path.join(UPLOAD_FOLDER, thumb_filename)\n",
    "    try:\n",
    "        with Image.open(processed_filepath) as img:\n",
    "            img.thumbnail((100, 100))\n",
    "            img.save(thumb_filepath)\n",
    "    except Exception as e:\n",
    "        logging.error(\"Error generating thumbnail: %s\", e)\n",
    "        return jsonify({'error': 'Failed to generate thumbnail'}), 500\n",
    "\n",
    "    return jsonify({\n",
    "        'message': 'File uploaded, processed, and thumbnail generated',\n",
    "        'processed_file': processed_filepath,\n",
    "        'thumbnail': thumb_filepath\n",
    "    }), 200\n",
    "\n",
    "@app.route('/health', methods=['GET'])\n",
    "def health_check():\n",
    "    return jsonify({'status': 'healthy'}), 200\n",
    "\n",
    "if __name__ == '__main__':\n",
    "    app.run(debug=True)"
   ]
  },
  {
   "cell_type": "markdown",
   "metadata": {},
   "source": [
    "Summary of Changes (Turn 3):\n",
    "\n",
    "Health‑Check Endpoint:\n",
    "\n",
    "Added a new /health route that returns a JSON object { \"status\": \"healthy\" }.\n",
    "\n",
    "This small change provides an easy way to monitor the service’s operational status without affecting existing functionality."
   ]
  }
 ],
 "metadata": {
  "language_info": {
   "name": "python"
  }
 },
 "nbformat": 4,
 "nbformat_minor": 2
}
